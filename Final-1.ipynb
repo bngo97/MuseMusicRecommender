{
 "cells": [
  {
   "cell_type": "code",
   "execution_count": 1,
   "metadata": {},
   "outputs": [],
   "source": [
    "import numpy as np\n",
    "import pandas as pd\n",
    "import matplotlib.pyplot as plt"
   ]
  },
  {
   "cell_type": "code",
   "execution_count": 41,
   "metadata": {},
   "outputs": [],
   "source": [
    "song_to_index = pd.read_csv('./data/kaggle_songs.txt', delimiter=' ', names=['id'], index_col=0).astype(str)\n",
    "user_idx_to_id = pd.read_csv('./data/kaggle_users.txt', delimiter=' ', names=['id'])\n",
    "X = pd.read_csv('./data/kaggle_visible_evaluation_triplets.txt', delimiter='\\t', names=['user_id', 'song_id', 'play_count'])"
   ]
  },
  {
   "cell_type": "code",
   "execution_count": 3,
   "metadata": {},
   "outputs": [],
   "source": [
    "songs = X['song_id'].value_counts()"
   ]
  },
  {
   "cell_type": "code",
   "execution_count": 4,
   "metadata": {},
   "outputs": [],
   "source": [
    "histories = X.groupby(X['user_id'], sort=False)"
   ]
  },
  {
   "cell_type": "code",
   "execution_count": 59,
   "metadata": {},
   "outputs": [],
   "source": [
    "result = []\n",
    "\n",
    "for user in user_idx_to_id['id']:\n",
    "    songs_to_recommend = songs.drop(histories.get_group(user)['song_id']).iloc[:500].index.values\n",
    "    result.append(' '.join(song_to_index.loc[songs_to_recommend, 'id']))\n",
    "\n",
    "pd.DataFrame(result).to_csv('test', index=False, header=False)"
   ]
  }
 ],
 "metadata": {
  "kernelspec": {
   "display_name": "Python 3",
   "language": "python",
   "name": "python3"
  },
  "language_info": {
   "codemirror_mode": {
    "name": "ipython",
    "version": 3
   },
   "file_extension": ".py",
   "mimetype": "text/x-python",
   "name": "python",
   "nbconvert_exporter": "python",
   "pygments_lexer": "ipython3",
   "version": "3.6.6"
  }
 },
 "nbformat": 4,
 "nbformat_minor": 2
}

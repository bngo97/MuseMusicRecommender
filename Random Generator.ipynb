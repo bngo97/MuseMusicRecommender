{
 "cells": [
  {
   "cell_type": "code",
   "execution_count": 24,
   "metadata": {},
   "outputs": [],
   "source": [
    "import pandas as pd\n",
    "from collections import defaultdict\n",
    "import numpy as np\n",
    "from sortedcontainers import SortedList, SortedDict, SortedSet\n",
    "from numpy import random"
   ]
  },
  {
   "cell_type": "markdown",
   "metadata": {},
   "source": [
    "## Read in Data and Create Relevant Dictionaries"
   ]
  },
  {
   "cell_type": "code",
   "execution_count": 28,
   "metadata": {},
   "outputs": [],
   "source": [
    "kaggle = pd.read_csv('kaggle_songs.txt', header=None, sep=' ')\n",
    "songs = np.asarray(kaggle.iloc[:,0])\n",
    "\n",
    "song_to_kaggle = dict()\n",
    "for idx, row in kaggle.iterrows():\n",
    "    song_to_kaggle[row[0]] = row[1]"
   ]
  },
  {
   "cell_type": "code",
   "execution_count": 26,
   "metadata": {},
   "outputs": [],
   "source": [
    "data = pd.read_csv('kaggle_visible_evaluation_triplets.txt', header=None, sep='\\t')"
   ]
  },
  {
   "cell_type": "code",
   "execution_count": 27,
   "metadata": {},
   "outputs": [],
   "source": [
    "user_rating_list = dict()\n",
    "user_rating_list = defaultdict(lambda:list(), user_rating_list)\n",
    "\n",
    "song_rating_list = dict()\n",
    "song_rating_list = defaultdict(lambda:list(), song_rating_list)\n",
    "\n",
    "id_to_user = dict()\n",
    "user_to_id = dict()\n",
    "id_to_song = dict()\n",
    "song_to_id = dict()\n",
    "user_idx = -1\n",
    "song_idx = -1\n",
    "last_user = 0\n",
    "\n",
    "total = 0\n",
    "ratings = 0\n",
    "\n",
    "for i in range(len(data.iloc[:,0])):\n",
    "    \n",
    "    if data.iloc[i,0] != last_user:\n",
    "        user_idx += 1\n",
    "        id_to_user[user_idx] = data.iloc[i,0]\n",
    "        user_to_id[data.iloc[i,0]] = user_idx\n",
    "        last_user = data.iloc[i,0]\n",
    "\n",
    "    user_rating_list[user_idx].append((song_idx, data.iloc[i,2]))\n",
    "        \n",
    "    if data.iloc[i,1] in song_to_id:\n",
    "        song_rating_list[song_to_id[data.iloc[i,1]]].append((user_idx, data.iloc[i,2]))\n",
    "    else:\n",
    "        song_idx += 1\n",
    "        id_to_song[song_idx] = data.iloc[i,1]\n",
    "        song_to_id[data.iloc[i,1]] = song_idx\n",
    "        song_rating_list[song_idx].append((user_idx, data.iloc[i,2]))\n",
    "    \n",
    "    total += data.iloc[i,2]\n",
    "    ratings += 1"
   ]
  },
  {
   "cell_type": "markdown",
   "metadata": {},
   "source": [
    "## Create Random Recommendations"
   ]
  },
  {
   "cell_type": "code",
   "execution_count": 33,
   "metadata": {},
   "outputs": [
    {
     "name": "stdout",
     "output_type": "stream",
     "text": [
      "|==================================================| 100.000000%\r"
     ]
    }
   ],
   "source": [
    "import operator\n",
    "\n",
    "f = open('submission_random.txt', 'w')\n",
    "timect = 0\n",
    "\n",
    "for i in range(500):\n",
    "    random.shuffle(songs)\n",
    "    random_500 = songs[:500]\n",
    "    \n",
    "    top = []\n",
    "    for song in random_500:\n",
    "        track = song_to_kaggle[song]\n",
    "        top.append(str(track))\n",
    "    \n",
    "    # Write line for that user\n",
    "    f.write(' '.join(top) + '\\n')\n",
    "    \n",
    "    timect += 1\n",
    "    if timect % 10 == 0:\n",
    "        print('|{0:50s}| {1:3f}%\\r'.format('='*round((timect/500)*50), (timect/500) * 100), end='')\n",
    "\n",
    "f.close()"
   ]
  }
 ],
 "metadata": {
  "kernelspec": {
   "display_name": "Python 3",
   "language": "python",
   "name": "python3"
  },
  "language_info": {
   "codemirror_mode": {
    "name": "ipython",
    "version": 3
   },
   "file_extension": ".py",
   "mimetype": "text/x-python",
   "name": "python",
   "nbconvert_exporter": "python",
   "pygments_lexer": "ipython3",
   "version": "3.6.6"
  }
 },
 "nbformat": 4,
 "nbformat_minor": 2
}

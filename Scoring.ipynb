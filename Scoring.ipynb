{
 "cells": [
  {
   "cell_type": "code",
   "execution_count": 18,
   "metadata": {},
   "outputs": [],
   "source": [
    "import pandas as pd\n",
    "from collections import defaultdict\n",
    "import numpy as np\n",
    "from sortedcontainers import SortedList, SortedDict, SortedSet"
   ]
  },
  {
   "cell_type": "markdown",
   "metadata": {},
   "source": [
    "## Create Mapping from Song ID-->Kaggle ID and Kaggle ID-->Song ID"
   ]
  },
  {
   "cell_type": "code",
   "execution_count": 19,
   "metadata": {},
   "outputs": [],
   "source": [
    "kaggle = pd.read_csv('kaggle_songs.txt', header=None, sep=' ')\n",
    "kaggle_to_song = dict()\n",
    "song_to_kaggle = dict()\n",
    "for idx, row in kaggle.iterrows():\n",
    "    kaggle_to_song[row[1]] = row[0]\n",
    "    song_to_kaggle[row[0]] = row[1]"
   ]
  },
  {
   "cell_type": "markdown",
   "metadata": {},
   "source": [
    "## Import Validation Data"
   ]
  },
  {
   "cell_type": "code",
   "execution_count": 20,
   "metadata": {},
   "outputs": [],
   "source": [
    "data = pd.read_csv('year1_valid_triplets_hidden.txt', header=None, sep='\\t')\n",
    "\n",
    "validation_user_list = dict()\n",
    "validation_user_list = defaultdict(lambda:list(), validation_user_list)\n",
    "last_user = 0\n",
    "user_ct = -1\n",
    "\n",
    "for i in range(len(data.iloc[:,0])):\n",
    "    if data.iloc[i,0] != last_user:\n",
    "        user_ct += 1\n",
    "        validation_user_list[user_ct].append(data.iloc[i,1])\n",
    "        last_user = data.iloc[i,0]\n",
    "    else:\n",
    "        validation_user_list[user_ct].append(data.iloc[i,1])"
   ]
  },
  {
   "cell_type": "markdown",
   "metadata": {},
   "source": [
    "## Import Test Data"
   ]
  },
  {
   "cell_type": "code",
   "execution_count": 69,
   "metadata": {},
   "outputs": [],
   "source": [
    "test_data = pd.read_csv('Submissions/submission_popularity.txt', header=None)\n",
    "\n",
    "test_user_list = dict()\n",
    "test_user_list = defaultdict(lambda:list(), test_user_list)\n",
    "\n",
    "for i in range(len(test_data)):\n",
    "    rec = list(map(int, test_data[0][i].split()))\n",
    "    new_rec = []\n",
    "    for song in rec:\n",
    "        new_rec.append(kaggle_to_song[song])\n",
    "    test_user_list[i] = new_rec"
   ]
  },
  {
   "cell_type": "code",
   "execution_count": 70,
   "metadata": {},
   "outputs": [],
   "source": [
    "def compare(validation, test, quantity):\n",
    "    accuracy_sum = 0\n",
    "    for i in range(len(validation)):\n",
    "        similar = len(np.intersect1d(validation[i],test[i][:quantity]))\n",
    "        accuracy_sum += similar / quantity\n",
    "        # accuracy_sum += similar / len(validation[i])\n",
    "        \n",
    "    return accuracy_sum / len(validation)"
   ]
  },
  {
   "cell_type": "code",
   "execution_count": null,
   "metadata": {},
   "outputs": [],
   "source": []
  },
  {
   "cell_type": "code",
   "execution_count": 77,
   "metadata": {},
   "outputs": [
    {
     "data": {
      "text/plain": [
       "0.032240000000000046"
      ]
     },
     "execution_count": 77,
     "metadata": {},
     "output_type": "execute_result"
    }
   ],
   "source": [
    "compare(validation_user_list, test_user_list, 500)"
   ]
  },
  {
   "cell_type": "code",
   "execution_count": null,
   "metadata": {},
   "outputs": [],
   "source": []
  },
  {
   "cell_type": "code",
   "execution_count": null,
   "metadata": {},
   "outputs": [],
   "source": []
  },
  {
   "cell_type": "code",
   "execution_count": null,
   "metadata": {},
   "outputs": [],
   "source": []
  },
  {
   "cell_type": "markdown",
   "metadata": {},
   "source": [
    "## Import Test Data (For Unconverted Text)"
   ]
  },
  {
   "cell_type": "code",
   "execution_count": 50,
   "metadata": {},
   "outputs": [],
   "source": [
    "test_data = pd.read_csv('Submissions/submission_item_item_500.txt', header=None)\n",
    "\n",
    "test_user_list = dict()\n",
    "test_user_list = defaultdict(lambda:list(), test_user_list)\n",
    "\n",
    "for i in range(len(test_data)):\n",
    "    rec = list(test_data[0][i].split())\n",
    "    new_rec = []\n",
    "    for song in rec:\n",
    "        new_rec.append(song)\n",
    "    test_user_list[i] = new_rec"
   ]
  }
 ],
 "metadata": {
  "kernelspec": {
   "display_name": "Python 3",
   "language": "python",
   "name": "python3"
  },
  "language_info": {
   "codemirror_mode": {
    "name": "ipython",
    "version": 3
   },
   "file_extension": ".py",
   "mimetype": "text/x-python",
   "name": "python",
   "nbconvert_exporter": "python",
   "pygments_lexer": "ipython3",
   "version": "3.6.6"
  }
 },
 "nbformat": 4,
 "nbformat_minor": 2
}

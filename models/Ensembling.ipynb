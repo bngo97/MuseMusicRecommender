{
 "cells": [
  {
   "cell_type": "code",
   "execution_count": 1,
   "metadata": {
    "collapsed": true
   },
   "outputs": [],
   "source": [
    "import pandas as pd\n",
    "from collections import defaultdict\n",
    "import numpy as np\n",
    "from sortedcontainers import SortedList, SortedDict, SortedSet"
   ]
  },
  {
   "cell_type": "code",
   "execution_count": 2,
   "metadata": {
    "collapsed": true
   },
   "outputs": [],
   "source": [
    "item = pd.read_csv('Submissions/submission_item_item_500.txt', header=None)\n",
    "knn = pd.read_csv('Submissions/submission_nearest_neighbor.txt', header=None)\n",
    "pop = pd.read_csv('Submissions/submission_popularity.txt', header=None)"
   ]
  },
  {
   "cell_type": "code",
   "execution_count": 3,
   "metadata": {
    "collapsed": true
   },
   "outputs": [],
   "source": [
    "kaggle = pd.read_csv('kaggle_songs.txt', header=None, sep=' ')\n",
    "kaggle_to_song = dict()\n",
    "song_to_kaggle = dict()\n",
    "for idx, row in kaggle.iterrows():\n",
    "    kaggle_to_song[row[1]] = row[0]\n",
    "    song_to_kaggle[row[0]] = row[1]"
   ]
  },
  {
   "cell_type": "code",
   "execution_count": 4,
   "metadata": {
    "collapsed": true
   },
   "outputs": [],
   "source": [
    "test_data = pd.read_csv('Submissions/submission_item_item_500.txt', header=None)\n",
    "\n",
    "item_list = dict()\n",
    "item_list = defaultdict(lambda:list(),item_list)\n",
    "\n",
    "for i in range(len(test_data)):\n",
    "    rec = list(test_data[0][i].split())\n",
    "    new_rec = []\n",
    "    for song in rec:\n",
    "        new_rec.append(song)\n",
    "    item_list[i] = set(new_rec)"
   ]
  },
  {
   "cell_type": "code",
   "execution_count": 5,
   "metadata": {
    "collapsed": true
   },
   "outputs": [],
   "source": [
    "test_data = pd.read_csv('Submissions/submission_nearest_neighbor.txt', header=None)\n",
    "\n",
    "knn_list = dict()\n",
    "knn_list = defaultdict(lambda:list(), knn_list)\n",
    "\n",
    "for i in range(len(test_data)):\n",
    "    rec = list(map(int, test_data[0][i].split()))\n",
    "    new_rec = []\n",
    "    for song in rec:\n",
    "        new_rec.append(kaggle_to_song[song])\n",
    "    knn_list[i] = set(new_rec)"
   ]
  },
  {
   "cell_type": "code",
   "execution_count": 6,
   "metadata": {
    "collapsed": true
   },
   "outputs": [],
   "source": [
    "test_data = pd.read_csv('Submissions/submission_popularity.txt', header=None)\n",
    "\n",
    "pop_list = dict()\n",
    "pop_list = defaultdict(lambda:list(), pop_list)\n",
    "\n",
    "for i in range(len(test_data)):\n",
    "    rec = list(map(int, test_data[0][i].split()))\n",
    "    new_rec = []\n",
    "    for song in rec:\n",
    "        new_rec.append(kaggle_to_song[song])\n",
    "    pop_list[i] = set(new_rec)"
   ]
  },
  {
   "cell_type": "code",
   "execution_count": 7,
   "metadata": {
    "collapsed": true
   },
   "outputs": [],
   "source": [
    "ensemble_rec = knn_list.copy()\n",
    "for i in range(0, 10000):\n",
    "    knn_songs = knn_list[i]\n",
    "    item_songs = item_list[i]\n",
    "    pop_songs = pop_list[i]\n",
    "    \n",
    "    intersection1 = knn_songs.intersection(item_songs).intersection(pop_songs)\n",
    "    songs_to_recommend = list(intersection1)\n",
    "    intersection2 = knn_songs.intersection(item_songs)\n",
    "    for song in intersection2:\n",
    "        if song not in songs_to_recommend:\n",
    "            songs_to_recommend.append(song)\n",
    "    intersection3 = knn_songs.intersection(pop_songs)\n",
    "    for song in intersection3:\n",
    "        if song not in songs_to_recommend:\n",
    "            songs_to_recommend.append(song)\n",
    "    intersection4 = item_songs.intersection(pop_songs)\n",
    "    for song in intersection4:\n",
    "        if song not in songs_to_recommend:\n",
    "            songs_to_recommend.append(song)\n",
    "    for song in knn_songs:\n",
    "        if song not in songs_to_recommend:\n",
    "            if len(songs_to_recommend) < 500: \n",
    "                songs_to_recommend.append(song)\n",
    "    ensemble_rec[i] = songs_to_recommend    \n",
    "    \n",
    "#perform the different permutations of intersections and add them to the song recommendation for each user"
   ]
  },
  {
   "cell_type": "code",
   "execution_count": 13,
   "metadata": {},
   "outputs": [],
   "source": [
    "test_user_list = dict()\n",
    "test_user_list = defaultdict(lambda:list(), test_user_list)\n",
    "\n",
    "for i in range(len(ensemble_rec.items())):\n",
    "    new_rec = []\n",
    "    for song in ensemble_rec[i]:\n",
    "        test_user_list[i] = song"
   ]
  },
  {
   "cell_type": "code",
   "execution_count": 8,
   "metadata": {
    "collapsed": true
   },
   "outputs": [],
   "source": [
    "data = pd.read_csv('year1_valid_triplets_hidden.txt', header=None, sep='\\t')\n",
    "\n",
    "validation_user_list = dict()\n",
    "validation_user_list = defaultdict(lambda:list(), validation_user_list)\n",
    "last_user = 0\n",
    "user_ct = -1\n",
    "\n",
    "for i in range(len(data.iloc[:,0])):\n",
    "    if data.iloc[i,0] != last_user:\n",
    "        user_ct += 1\n",
    "        validation_user_list[user_ct].append(data.iloc[i,1])\n",
    "        last_user = data.iloc[i,0]\n",
    "    else:\n",
    "        validation_user_list[user_ct].append(data.iloc[i,1])"
   ]
  },
  {
   "cell_type": "code",
   "execution_count": 32,
   "metadata": {
    "collapsed": true
   },
   "outputs": [],
   "source": [
    "def compare(validation, test, quantity):\n",
    "    accuracy_sum = 0\n",
    "    for i in range(len(validation)):\n",
    "        similar = len(np.intersect1d(validation[i],test[i][:quantity]))\n",
    "        #accuracy_sum += similar / quantity\n",
    "        accuracy_sum += similar / len(validation[i])\n",
    "        \n",
    "    return accuracy_sum / len(validation)\n",
    "#performs recall or precision calculation"
   ]
  },
  {
   "cell_type": "code",
   "execution_count": 39,
   "metadata": {},
   "outputs": [
    {
     "data": {
      "text/plain": [
       "0.33179123477087896"
      ]
     },
     "execution_count": 39,
     "metadata": {},
     "output_type": "execute_result"
    }
   ],
   "source": [
    "compare(validation_user_list, ensemble_rec, 500)"
   ]
  },
  {
   "cell_type": "code",
   "execution_count": null,
   "metadata": {
    "collapsed": true
   },
   "outputs": [],
   "source": []
  }
 ],
 "metadata": {
  "kernelspec": {
   "display_name": "Python 3",
   "language": "python",
   "name": "python3"
  },
  "language_info": {
   "codemirror_mode": {
    "name": "ipython",
    "version": 3
   },
   "file_extension": ".py",
   "mimetype": "text/x-python",
   "name": "python",
   "nbconvert_exporter": "python",
   "pygments_lexer": "ipython3",
   "version": "3.6.3"
  }
 },
 "nbformat": 4,
 "nbformat_minor": 2
}

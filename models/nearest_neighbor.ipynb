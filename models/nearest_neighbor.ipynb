{
 "cells": [
  {
   "cell_type": "code",
   "execution_count": 47,
   "metadata": {},
   "outputs": [],
   "source": [
    "# load the user histories\n",
    "\n",
    "with open('kaggle_visible_evaluation_triplets.txt', 'r') as f:\n",
    "    user_to_songs = dict() \n",
    "    for line in f:\n",
    "        user, song, _ = line.strip().split('\\t') \n",
    "        if user in user_to_songs: \n",
    "            user_to_songs[user].add(song) \n",
    "        else: \n",
    "            user_to_songs[user] = set([song])\n",
    "            pass\n",
    "        pass\n",
    "    pass"
   ]
  },
  {
   "cell_type": "code",
   "execution_count": 58,
   "metadata": {},
   "outputs": [],
   "source": [
    "# load the user ordering\n",
    "\n",
    "with open('new_users.txt', 'r') as f:\n",
    "    canonical_users = map(lambda line: line.strip(), f.readlines()) \n",
    "    pass"
   ]
  },
  {
   "cell_type": "code",
   "execution_count": 56,
   "metadata": {},
   "outputs": [],
   "source": [
    "# load the song ordering\n",
    "\n",
    "with open('kaggle_songs.txt', 'r') as f:\n",
    "    song_to_index = dict(map(lambda line: line.strip().split(' '), f.readlines())) \n",
    "    pass"
   ]
  },
  {
   "cell_type": "code",
   "execution_count": null,
   "metadata": {},
   "outputs": [],
   "source": []
  },
  {
   "cell_type": "code",
   "execution_count": 59,
   "metadata": {},
   "outputs": [
    {
     "name": "stdout",
     "output_type": "stream",
     "text": [
      "Download progress: 9999%   \r"
     ]
    }
   ],
   "source": [
    "# generate the prediction file\n",
    "cnt = 0\n",
    "with open('new_nearest_neighbor_submission.txt', 'w') as f:\n",
    "    for user in canonical_users:\n",
    "        #sys.stdout.write(\"Download progress: %f%% \" % (cnt/10000))\n",
    "        sys.stdout.write(\"Download progress: %d%%   \\r\" % (cnt))\n",
    "        cnt += 1\n",
    "        users_songs = user_to_songs[user]\n",
    "        neighbors = []\n",
    "        for neighbor, songs in user_to_songs.items():\n",
    "            if(user != neighbor):\n",
    "                similiarities = users_songs.intersection(songs)\n",
    "                neighbors.append((neighbor, len(similiarities)))\n",
    "        sorted_neighbors = sorted(neighbors, key=lambda x: x[1], reverse = True)\n",
    "        \n",
    "        songs_to_recommend  = [] \n",
    "        for neighbor, similiarities in sorted_neighbors:\n",
    "            neighbors_songs = user_to_songs[neighbor]\n",
    "            for song in neighbors_songs:\n",
    "                if(len(songs_to_recommend) >= 500):\n",
    "                    break\n",
    "                    pass\n",
    "                if not song in users_songs and not song in songs_to_recommend:\n",
    "                    songs_to_recommend.append(song)\n",
    "                    pass\n",
    "            if(len(songs_to_recommend) >= 500):\n",
    "                break\n",
    "        \n",
    "        # Transform song IDs to song indexes \n",
    "        indices = map(lambda s: song_to_index[s], songs_to_recommend) \n",
    "        \n",
    "        # Write line for that user \n",
    "        f.write(' '.join(indices) + '\\n') \n",
    "        pass\n",
    "    pass"
   ]
  },
  {
   "cell_type": "code",
   "execution_count": null,
   "metadata": {},
   "outputs": [],
   "source": []
  },
  {
   "cell_type": "code",
   "execution_count": 30,
   "metadata": {},
   "outputs": [
    {
     "name": "stdout",
     "output_type": "stream",
     "text": [
      "Download progress: 11%  \r"
     ]
    },
    {
     "ename": "KeyboardInterrupt",
     "evalue": "",
     "output_type": "error",
     "traceback": [
      "\u001b[0;31m---------------------------------------------------------------------------\u001b[0m",
      "\u001b[0;31mKeyboardInterrupt\u001b[0m                         Traceback (most recent call last)",
      "\u001b[0;32m<ipython-input-30-13212a1ae872>\u001b[0m in \u001b[0;36m<module>\u001b[0;34m\u001b[0m\n\u001b[1;32m      5\u001b[0m     \u001b[0msys\u001b[0m\u001b[0;34m.\u001b[0m\u001b[0mstdout\u001b[0m\u001b[0;34m.\u001b[0m\u001b[0mwrite\u001b[0m\u001b[0;34m(\u001b[0m\u001b[0;34m\"Download progress: %d%%  \\r\"\u001b[0m \u001b[0;34m%\u001b[0m \u001b[0;34m(\u001b[0m\u001b[0mcnt\u001b[0m\u001b[0;34m)\u001b[0m \u001b[0;34m)\u001b[0m\u001b[0;34m\u001b[0m\u001b[0;34m\u001b[0m\u001b[0m\n\u001b[1;32m      6\u001b[0m     \u001b[0mcnt\u001b[0m\u001b[0;34m+=\u001b[0m\u001b[0;36m1\u001b[0m\u001b[0;34m\u001b[0m\u001b[0;34m\u001b[0m\u001b[0m\n\u001b[0;32m----> 7\u001b[0;31m     \u001b[0mtime\u001b[0m\u001b[0;34m.\u001b[0m\u001b[0msleep\u001b[0m\u001b[0;34m(\u001b[0m\u001b[0;36m1\u001b[0m\u001b[0;34m)\u001b[0m\u001b[0;34m\u001b[0m\u001b[0;34m\u001b[0m\u001b[0m\n\u001b[0m",
      "\u001b[0;31mKeyboardInterrupt\u001b[0m: "
     ]
    }
   ],
   "source": [
    "import sys\n",
    "import time\n",
    "cnt = 0\n",
    "for i in range(0, 100):\n",
    "    sys.stdout.write(\"Download progress: %d%%  \\r\" % (cnt) )\n",
    "    cnt+=1\n",
    "    time.sleep(1)"
   ]
  },
  {
   "cell_type": "code",
   "execution_count": null,
   "metadata": {},
   "outputs": [],
   "source": []
  }
 ],
 "metadata": {
  "kernelspec": {
   "display_name": "Python 3",
   "language": "python",
   "name": "python3"
  },
  "language_info": {
   "codemirror_mode": {
    "name": "ipython",
    "version": 3
   },
   "file_extension": ".py",
   "mimetype": "text/x-python",
   "name": "python",
   "nbconvert_exporter": "python",
   "pygments_lexer": "ipython3",
   "version": "3.6.7"
  }
 },
 "nbformat": 4,
 "nbformat_minor": 2
}

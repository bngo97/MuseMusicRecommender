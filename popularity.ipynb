{
 "cells": [
  {
   "cell_type": "code",
   "execution_count": 2,
   "metadata": {},
   "outputs": [],
   "source": [
    "# Step 1: load the triplets and compute song counts\n",
    "\n",
    "with open('kaggle_visible_evaluation_triplets.txt', 'r') as f:\n",
    "    song_to_count = dict() \n",
    "    for line in f:\n",
    "        _, song, _ = line.strip().split('\\t') \n",
    "        if song in song_to_count: \n",
    "            song_to_count[song] += 1 \n",
    "        else: \n",
    "            song_to_count[song] = 1 \n",
    "            pass\n",
    "        pass\n",
    "    pass"
   ]
  },
  {
   "cell_type": "code",
   "execution_count": 3,
   "metadata": {},
   "outputs": [],
   "source": [
    "# Step 2: sort by popularity\n",
    "\n",
    "songs_ordered = sorted( song_to_count.keys(), \n",
    "                        key=lambda s: song_to_count[s],\n",
    "                        reverse=True)\n"
   ]
  },
  {
   "cell_type": "code",
   "execution_count": 4,
   "metadata": {},
   "outputs": [],
   "source": [
    "# Step 3: load the user histories\n",
    "\n",
    "with open('kaggle_visible_evaluation_triplets.txt', 'r') as f:\n",
    "    user_to_songs = dict() \n",
    "    for line in f:\n",
    "        user, song, _ = line.strip().split('\\t') \n",
    "        if user in user_to_songs: \n",
    "            user_to_songs[user].add(song) \n",
    "        else: \n",
    "            user_to_songs[user] = set([song])\n",
    "            pass\n",
    "        pass\n",
    "    pass\n"
   ]
  },
  {
   "cell_type": "code",
   "execution_count": 5,
   "metadata": {},
   "outputs": [],
   "source": [
    "# Step 4: load the user ordering\n",
    "\n",
    "with open('kaggle_users.txt', 'r') as f:\n",
    "    canonical_users = map(lambda line: line.strip(), f.readlines()) \n",
    "    pass\n"
   ]
  },
  {
   "cell_type": "code",
   "execution_count": 6,
   "metadata": {},
   "outputs": [],
   "source": [
    "# Step 5: load the song ordering\n",
    "\n",
    "with open('kaggle_songs.txt', 'r') as f:\n",
    "    song_to_index = dict(map(lambda line: line.strip().split(' '), f.readlines())) \n",
    "    pass\n"
   ]
  },
  {
   "cell_type": "code",
   "execution_count": 7,
   "metadata": {},
   "outputs": [],
   "source": [
    "# Step 6: generate the prediction file\n",
    "with open('submission_getting_started.txt', 'w') as f:\n",
    "    for user in canonical_users:\n",
    "        songs_to_recommend  = [] \n",
    "\n",
    "        for song in songs_ordered: \n",
    "            if len(songs_to_recommend) >= 500: \n",
    "                break \n",
    "            if not song in user_to_songs[user]: \n",
    "                songs_to_recommend.append(song) \n",
    "                pass\n",
    "        \n",
    "        # Transform song IDs to song indexes \n",
    "        indices = map(lambda s: song_to_index[s], songs_to_recommend) \n",
    "        \n",
    "        # Write line for that user \n",
    "        f.write(' '.join(indices) + '\\n') \n",
    "        pass\n",
    "    pass\n",
    "\n",
    "# And we're done!"
   ]
  },
  {
   "cell_type": "code",
   "execution_count": null,
   "metadata": {},
   "outputs": [],
   "source": []
  },
  {
   "cell_type": "code",
   "execution_count": null,
   "metadata": {},
   "outputs": [],
   "source": []
  }
 ],
 "metadata": {
  "kernelspec": {
   "display_name": "Python 3",
   "language": "python",
   "name": "python3"
  },
  "language_info": {
   "codemirror_mode": {
    "name": "ipython",
    "version": 3
   },
   "file_extension": ".py",
   "mimetype": "text/x-python",
   "name": "python",
   "nbconvert_exporter": "python",
   "pygments_lexer": "ipython3",
   "version": "3.6.7"
  }
 },
 "nbformat": 4,
 "nbformat_minor": 2
}

{
 "cells": [
  {
   "cell_type": "code",
   "execution_count": 1,
   "metadata": {},
   "outputs": [],
   "source": [
    "import numpy as np\n",
    "import pandas as pd"
   ]
  },
  {
   "cell_type": "code",
   "execution_count": 2,
   "metadata": {},
   "outputs": [],
   "source": [
    "data = pd.read_csv('./data/kaggle/kaggle_visible_evaluation_triplets.txt', delimiter='\\t', names=['user_id', 'song_id', 'play_count'])"
   ]
  },
  {
   "cell_type": "code",
   "execution_count": 4,
   "metadata": {},
   "outputs": [],
   "source": [
    "data = pd.read_csv('./data/test/user-graph-triplets.tsv', delimiter='\\t', names=['user_id', 'song_id', 'play_count'])"
   ]
  },
  {
   "cell_type": "code",
   "execution_count": 3,
   "metadata": {},
   "outputs": [],
   "source": [
    "groupby_users = data.groupby('user_id')"
   ]
  },
  {
   "cell_type": "code",
   "execution_count": 5,
   "metadata": {},
   "outputs": [],
   "source": [
    "# # Run only for testing purposes\n",
    "\n",
    "NUM_USERS = 1000\n",
    "\n",
    "i = 0\n",
    "\n",
    "test_data = pd.DataFrame(columns=('user_id', 'song_id', 'play_count'))\n",
    "\n",
    "for user, songs in groupby_users:\n",
    "    if i < NUM_USERS:\n",
    "        test_data = pd.concat([test_data, songs], axis='index')\n",
    "    else:\n",
    "        break\n",
    "\n",
    "    i += 1\n",
    "    \n",
    "users = test_data.groupby('user_id')"
   ]
  },
  {
   "cell_type": "code",
   "execution_count": 6,
   "metadata": {},
   "outputs": [],
   "source": [
    "class Edge:\n",
    "    def __init__(self, user, weight):\n",
    "        self.user = user\n",
    "        self.weight = weight\n",
    "        \n",
    "    def __eq__(self, other):\n",
    "        type_ = type(other)\n",
    "        \n",
    "        if type_ is str:\n",
    "            return self.user == other\n",
    "        elif type_ is Edge:\n",
    "            return self.user == other.user\n",
    "        else:\n",
    "            return False\n",
    "        \n",
    "    def __lt__(self, other):\n",
    "        if type(other) is Edge:\n",
    "            return self.weight < other.weight\n",
    "        else:\n",
    "            return False\n",
    "        \n",
    "    def __le__(self, other):\n",
    "        if type(other) is Edge:\n",
    "            return self.weight <= other.weight\n",
    "        else:\n",
    "            return False\n",
    "        \n",
    "    def __gt__(self, other):\n",
    "        if type(other) is Edge:\n",
    "            return self.weight > other.weight\n",
    "        else:\n",
    "            return False\n",
    "        \n",
    "    def __ge__(self, other):\n",
    "        if type(other) is Edge:\n",
    "            return self.weight >= other.weight\n",
    "        else:\n",
    "            return False\n",
    "    \n",
    "    def __str__(self):\n",
    "        return str((self.user, self.weight))"
   ]
  },
  {
   "cell_type": "code",
   "execution_count": 7,
   "metadata": {},
   "outputs": [
    {
     "data": {
      "text/plain": [
       "110000"
      ]
     },
     "execution_count": 7,
     "metadata": {},
     "output_type": "execute_result"
    }
   ],
   "source": [
    "# initialize nodes\n",
    "\n",
    "graph = {user: [] for user, _ in groupby_users}\n",
    "\n",
    "total_users = len(graph)\n",
    "total_users"
   ]
  },
  {
   "cell_type": "code",
   "execution_count": 8,
   "metadata": {},
   "outputs": [
    {
     "data": {
      "text/plain": [
       "6"
      ]
     },
     "execution_count": 8,
     "metadata": {},
     "output_type": "execute_result"
    }
   ],
   "source": [
    "import csv\n",
    "\n",
    "def flatten(list_):\n",
    "    return [item for sublist in list_ for item in sublist]\n",
    "\n",
    "with open('./data/test/users.txt', 'r') as f:\n",
    "    reader = csv.reader(f)\n",
    "    users_list = flatten(list(reader))\n",
    "    \n",
    "len(users_list)"
   ]
  },
  {
   "cell_type": "code",
   "execution_count": 9,
   "metadata": {},
   "outputs": [
    {
     "data": {
      "text/plain": [
       "'999/110000     500/110000'"
      ]
     },
     "metadata": {},
     "output_type": "display_data"
    }
   ],
   "source": [
    "# initialize edges\n",
    "\n",
    "from IPython.display import clear_output, display\n",
    "\n",
    "cur_user = 0\n",
    "\n",
    "for source_user, source_songs_df in users:\n",
    "    \n",
    "    songs = set(source_songs_df['song_id'])\n",
    "    \n",
    "    cur_target_user = 0\n",
    "        \n",
    "    for target_user, target_songs_df in users:\n",
    "        if cur_target_user % 500 == 0:\n",
    "            clear_output(wait=True)\n",
    "            display('{}/{}     {}/{}'.format(cur_user, total_users, cur_target_user, total_users))\n",
    "            \n",
    "        if source_user != target_user:\n",
    "            num_songs_in_common = target_songs_df['song_id'].isin(songs).sum()\n",
    "            if num_songs_in_common != 0:\n",
    "                graph[source_user].append(Edge(target_user, num_songs_in_common))\n",
    "                \n",
    "        cur_target_user += 1\n",
    "    \n",
    "    cur_user += 1"
   ]
  },
  {
   "cell_type": "code",
   "execution_count": 13,
   "metadata": {},
   "outputs": [
    {
     "name": "stdout",
     "output_type": "stream",
     "text": [
      "00007a02388c208ea7176479f6ae06f8224355b3\n",
      "00014a76ed063e1a749171a253bca9d9a0ff1782\n",
      "00015189668691680bb1a2e58afde1541ec92ced\n",
      "0001ff7aa2667c8d8b945317b88adaed1c0b9dc2\n",
      "00020fcd8b01986a6a85b896ccde6c49f35142ad\n",
      "0003477fcf455dc4fcae3d7ca5e329cef811c868\n"
     ]
    }
   ],
   "source": [
    "# initialize edges\n",
    "\n",
    "from IPython.display import clear_output, display\n",
    "\n",
    "NUM_USERS = 100\n",
    "\n",
    "cur_user = 0\n",
    "\n",
    "for user in users_list[:NUM_USERS]:\n",
    "    source_songs_df = groupby_users.get_group(user)['song_id']\n",
    "    \n",
    "#     data[user_i]\n",
    "    \n",
    "#     songs = set(source_songs_df['song_id'])\n",
    "    \n",
    "#     cur_target_user = 0\n",
    "        \n",
    "#     for target_user, target_songs_df in users:\n",
    "#         if cur_target_user % 500 == 0:\n",
    "#             clear_output(wait=True)\n",
    "#             display('{}/{}     {}/{}'.format(cur_user, total_users, cur_target_user, total_users))\n",
    "            \n",
    "#         if source_user != target_user:\n",
    "#             num_songs_in_common = target_songs_df['song_id'].isin(songs).sum()\n",
    "#             if num_songs_in_common != 0:\n",
    "#                 graph[source_user].append(Edge(target_user, num_songs_in_common))\n",
    "                \n",
    "#         cur_target_user += 1\n",
    "    \n",
    "#     cur_user += 1"
   ]
  },
  {
   "cell_type": "code",
   "execution_count": null,
   "metadata": {},
   "outputs": [],
   "source": [
    "# save graph and current user\n",
    "\n",
    "import pickle\n",
    "\n",
    "pickle.dump((graph, cur_user, cur_target_user), './save.pkl')"
   ]
  },
  {
   "cell_type": "code",
   "execution_count": 113,
   "metadata": {},
   "outputs": [],
   "source": [
    "# Create song to index mappings\n",
    "\n",
    "song_to_index = pd.read_csv('./data/kaggle/kaggle_songs.txt', index_col=0, names=('index',), delim_whitespace=True).to_dict()['index']\n",
    "\n",
    "def songs_to_indicies(songs):\n",
    "    indicies = []\n",
    "    for song in songs:\n",
    "        indicies.append(str(song_to_index[song]))\n",
    "    return indicies"
   ]
  },
  {
   "cell_type": "code",
   "execution_count": 114,
   "metadata": {},
   "outputs": [
    {
     "data": {
      "text/plain": [
       "110000"
      ]
     },
     "execution_count": 114,
     "metadata": {},
     "output_type": "execute_result"
    }
   ],
   "source": [
    "# Create user ordered mapping\n",
    "\n",
    "import csv\n",
    "\n",
    "def flatten(list_):\n",
    "    return [item for sublist in list_ for item in sublist]\n",
    "\n",
    "with open('./data/kaggle/kaggle_users.txt', 'r') as f:\n",
    "    reader = csv.reader(f)\n",
    "    users_list = flatten(list(reader))\n",
    "    \n",
    "len(users_list)"
   ]
  },
  {
   "cell_type": "code",
   "execution_count": 106,
   "metadata": {},
   "outputs": [],
   "source": [
    "# Find recommendations for each user\n",
    "\n",
    "saved_progress = 'saved.txt'\n",
    "out_file_name = 'submission.txt'\n",
    "\n",
    "import pickle\n",
    "\n",
    "try:\n",
    "    idx = pickle.loads(open(saved_progess, 'rb'))\n",
    "except:\n",
    "    idx = 0\n",
    "\n",
    "try:\n",
    "    with open(out_file_name, 'w') as out_file:\n",
    "        for i in range(idx, len(users_list)):\n",
    "            user = users_list[i]\n",
    "            source_songs = set(users.get_group(user)['song_id'])\n",
    "            \n",
    "            recommendations = []\n",
    "            \n",
    "            visited = {user: False for user in users_list}\n",
    "            queue = []\n",
    "\n",
    "            queue.append(user)\n",
    "            visited[user] = True\n",
    "\n",
    "            while queue: \n",
    "                s = queue.pop()\n",
    "                \n",
    "                if s != user:\n",
    "                    target_songs = set(users.get_group(s)['song_id'])\n",
    "                    recommendations.extend(songs_to_indicies(target_songs - source_songs))\n",
    "                \n",
    "                if len(recommendations) > 500:\n",
    "                    recommendations = recommendations[:500]\n",
    "                    break\n",
    "\n",
    "                neighbors = sorted(graph[s], reverse=True)\n",
    "                for neighbor in neighbors: \n",
    "                    if not visited[neighbor.user]: \n",
    "                        queue.append(neighbor.user) \n",
    "                        visited[neighbor.user] = True\n",
    "                        \n",
    "            out_file.write(' '.join(recommendations) + '\\n')\n",
    "            \n",
    "            idx = i\n",
    "\n",
    "except KeyboardInterrupt:\n",
    "    pickle.dumps(idx, open(saved_progess, 'wb'))"
   ]
  },
  {
   "cell_type": "code",
   "execution_count": 10,
   "metadata": {},
   "outputs": [],
   "source": [
    "# Format graph for d3.js\n",
    "\n",
    "users = list(graph.keys())\n",
    "connections = np.array([len(graph[user]) for user in users])\n",
    "\n",
    "max_connections = np.max(connections)\n",
    "\n",
    "nodes = pd.DataFrame({ 'id': users, 'label': users, 'level': np.ones(len(users), dtype=np.int8), 'numConnections': connections / max_connections })"
   ]
  },
  {
   "cell_type": "code",
   "execution_count": 11,
   "metadata": {},
   "outputs": [],
   "source": [
    "links = {'source': [], 'target': [], 'strength': []}\n",
    "\n",
    "max_weight = 0\n",
    "\n",
    "for user in users:\n",
    "    if graph[user]:\n",
    "        max_ = np.max(graph[user])\n",
    "        if max_.weight > max_weight:\n",
    "            max_weight = max_.weight\n",
    "            \n",
    "for source in users:\n",
    "    for target_edge in graph[source]:\n",
    "        links['source'].append(source)\n",
    "        links['target'].append(target_edge.user)\n",
    "        links['strength'].append(target_edge.weight / max_weight)\n",
    "    \n",
    "links = pd.DataFrame(links)"
   ]
  },
  {
   "cell_type": "code",
   "execution_count": 12,
   "metadata": {},
   "outputs": [],
   "source": [
    "nodes.to_json('../Muse/data/nodes-1000.json', orient='records')\n",
    "links.to_json('../Muse/data/links-1000.json', orient='records')"
   ]
  }
 ],
 "metadata": {
  "kernelspec": {
   "display_name": "Python 3",
   "language": "python",
   "name": "python3"
  },
  "language_info": {
   "codemirror_mode": {
    "name": "ipython",
    "version": 3
   },
   "file_extension": ".py",
   "mimetype": "text/x-python",
   "name": "python",
   "nbconvert_exporter": "python",
   "pygments_lexer": "ipython3",
   "version": "3.6.6"
  }
 },
 "nbformat": 4,
 "nbformat_minor": 2
}
